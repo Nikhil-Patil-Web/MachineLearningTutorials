{
  "cells": [
    {
      "cell_type": "code",
      "execution_count": null,
      "metadata": {
        "id": "VtSkqUhm7dHz"
      },
      "outputs": [],
      "source": [
        "import numpy as np\n",
        "import pandas as pd"
      ]
    },
    {
      "cell_type": "markdown",
      "metadata": {
        "id": "5iys9Ozq-HC4"
      },
      "source": [
        "### Create an empty and full numpy array"
      ]
    },
    {
      "cell_type": "code",
      "execution_count": null,
      "metadata": {
        "colab": {
          "base_uri": "https://localhost:8080/"
        },
        "id": "eYg6bpv07iKy",
        "outputId": "ae0b99f8-b805-4be5-8673-6abcfb4405a1"
      },
      "outputs": [
        {
          "data": {
            "text/plain": [
              "array([1, 2, 3, 4, 5])"
            ]
          },
          "execution_count": 7,
          "metadata": {},
          "output_type": "execute_result"
        }
      ],
      "source": [
        "arr = np.array([1,2,3,4,5])\n",
        "arr"
      ]
    },
    {
      "cell_type": "code",
      "execution_count": null,
      "metadata": {
        "colab": {
          "base_uri": "https://localhost:8080/"
        },
        "id": "mATfrLS49mio",
        "outputId": "ef8620f3-36fc-4d9e-97a6-5c1dd11e0ad9"
      },
      "outputs": [
        {
          "data": {
            "text/plain": [
              "array([], dtype=float64)"
            ]
          },
          "execution_count": 6,
          "metadata": {},
          "output_type": "execute_result"
        }
      ],
      "source": [
        "arr = np.array([])\n",
        "arr"
      ]
    },
    {
      "cell_type": "markdown",
      "metadata": {
        "id": "YVuQBU2g-8sb"
      },
      "source": [
        "### Create a numpy array of zeros and ones"
      ]
    },
    {
      "cell_type": "code",
      "execution_count": null,
      "metadata": {
        "colab": {
          "base_uri": "https://localhost:8080/"
        },
        "id": "IyAA_FSg94SW",
        "outputId": "e61774a1-dadd-4204-d585-ac38fe0731d4"
      },
      "outputs": [
        {
          "data": {
            "text/plain": [
              "array([1., 1., 1., 1., 1., 1., 1., 1., 1., 1., 1., 1., 1., 1., 1., 1., 1.,\n",
              "       1., 1., 1., 1., 1., 1., 1., 1.])"
            ]
          },
          "execution_count": 10,
          "metadata": {},
          "output_type": "execute_result"
        }
      ],
      "source": [
        "arr = np.ones(25)\n",
        "arr"
      ]
    },
    {
      "cell_type": "code",
      "execution_count": null,
      "metadata": {
        "colab": {
          "base_uri": "https://localhost:8080/"
        },
        "id": "L2rQ07n9-6Kq",
        "outputId": "87898353-0555-4030-aecd-beb367001411"
      },
      "outputs": [
        {
          "data": {
            "text/plain": [
              "array([0., 0., 0., 0., 0., 0., 0., 0., 0., 0., 0., 0., 0., 0., 0., 0., 0.,\n",
              "       0., 0., 0., 0., 0., 0., 0., 0.])"
            ]
          },
          "execution_count": 12,
          "metadata": {},
          "output_type": "execute_result"
        }
      ],
      "source": [
        "arr = np.zeros(25)\n",
        "arr"
      ]
    },
    {
      "cell_type": "markdown",
      "metadata": {
        "id": "9gKZRWpRP-4a"
      },
      "source": [
        "### Write a code to check if a row exists in a np array"
      ]
    },
    {
      "cell_type": "code",
      "execution_count": null,
      "metadata": {
        "colab": {
          "base_uri": "https://localhost:8080/"
        },
        "id": "bnGiJMCI_Hst",
        "outputId": "62cbb76b-22fa-4830-a835-4d5f36aa633c"
      },
      "outputs": [
        {
          "name": "stdout",
          "output_type": "stream",
          "text": [
            "True\n"
          ]
        }
      ],
      "source": [
        "arr = np.array([[1,2,3,4],[1,2,3,4]])\n",
        "print([1,2,3,4] in arr.tolist())"
      ]
    },
    {
      "cell_type": "code",
      "execution_count": null,
      "metadata": {
        "colab": {
          "base_uri": "https://localhost:8080/"
        },
        "id": "DgJds50D_k1a",
        "outputId": "013b42f0-24d2-490e-f9fe-8d4b24573750"
      },
      "outputs": [
        {
          "data": {
            "text/plain": [
              "array([['a', 'b', 'c', 'd'],\n",
              "       ['1', '2', '3', '4']], dtype='<U21')"
            ]
          },
          "execution_count": 21,
          "metadata": {},
          "output_type": "execute_result"
        }
      ],
      "source": [
        "arr = np.array([[\"a\", \"b\", \"c\", \"d\"], [1,2,3,4]])\n",
        "arr"
      ]
    },
    {
      "cell_type": "markdown",
      "metadata": {
        "id": "g5iMxfbDQvBj"
      },
      "source": [
        "### Find rows that contain non-numeric values in the np array"
      ]
    },
    {
      "cell_type": "code",
      "execution_count": null,
      "metadata": {
        "id": "kPx3CTLb5Lqn"
      },
      "outputs": [],
      "source": []
    },
    {
      "cell_type": "code",
      "execution_count": null,
      "metadata": {
        "colab": {
          "background_save": true,
          "base_uri": "https://localhost:8080/"
        },
        "id": "Pq_qpKdn5WD1",
        "outputId": "a34698b3-62e3-4a04-8469-d54449ff4ec6"
      },
      "outputs": [
        {
          "data": {
            "text/plain": [
              "array([[ 50,  56,  62,  68],\n",
              "       [ 80,  86,  92,  98],\n",
              "       [110, 116, 122, 128]])"
            ]
          },
          "execution_count": 5,
          "metadata": {},
          "output_type": "execute_result"
        }
      ],
      "source": [
        "import numpy as np\n",
        "arr1 = np.array([np.arange(50,74,3), np.arange(80,104,3), np.arange(110, 134,3)])\n",
        "arr1"
      ]
    },
    {
      "cell_type": "code",
      "execution_count": null,
      "metadata": {
        "colab": {
          "base_uri": "https://localhost:8080/"
        },
        "id": "8eZHj7B_VhNu",
        "outputId": "72c48bf4-42c7-4b3a-a224-8b7e18f96cf7"
      },
      "outputs": [
        {
          "data": {
            "text/plain": [
              "array([[0., 0., 0., 0., 0., 0., 0., 0.],\n",
              "       [0., 0., 0., 0., 0., 0., 0., 0.],\n",
              "       [0., 0., 0., 0., 0., 0., 0., 0.]])"
            ]
          },
          "execution_count": 3,
          "metadata": {},
          "output_type": "execute_result"
        }
      ],
      "source": [
        "arr0 =np.array([np.zeros(8), np.zeros(8), np.zeros(8)])\n",
        "arr0"
      ]
    },
    {
      "cell_type": "code",
      "execution_count": null,
      "metadata": {
        "id": "B3LQOziaV44Z"
      },
      "outputs": [],
      "source": [
        "arrI = np.array([])"
      ]
    },
    {
      "cell_type": "markdown",
      "source": [
        "### Code to replace particular indices in an numpy array that do not satisfy a condition"
      ],
      "metadata": {
        "id": "OOM4OJOncBiP"
      }
    },
    {
      "cell_type": "code",
      "source": [
        "import numpy as np\n",
        "import pandas as pd"
      ],
      "metadata": {
        "id": "IR4-bcHTcKND"
      },
      "execution_count": 1,
      "outputs": []
    },
    {
      "cell_type": "code",
      "source": [
        "arr = np.array([1,33,45,23,20,15,71,81,100])\n",
        "arr"
      ],
      "metadata": {
        "colab": {
          "base_uri": "https://localhost:8080/"
        },
        "id": "gUSRYU3ScOCW",
        "outputId": "e1158167-6abc-49c1-a262-0b5e67a30639"
      },
      "execution_count": 2,
      "outputs": [
        {
          "output_type": "execute_result",
          "data": {
            "text/plain": [
              "array([  1,  33,  45,  23,  20,  15,  71,  81, 100])"
            ]
          },
          "metadata": {},
          "execution_count": 2
        }
      ]
    },
    {
      "cell_type": "code",
      "source": [
        "arr[arr>50]=22\n",
        "arr"
      ],
      "metadata": {
        "colab": {
          "base_uri": "https://localhost:8080/"
        },
        "id": "moRCHt2_ckOe",
        "outputId": "eddf0b60-35ff-4cb7-a35b-ffd6265f2c6f"
      },
      "execution_count": 3,
      "outputs": [
        {
          "output_type": "execute_result",
          "data": {
            "text/plain": [
              "array([ 1, 33, 45, 23, 20, 15, 22, 22, 22])"
            ]
          },
          "metadata": {},
          "execution_count": 3
        }
      ]
    },
    {
      "cell_type": "markdown",
      "source": [
        "### Code to find indices that satisfy a condition"
      ],
      "metadata": {
        "id": "c0T90x52mEX7"
      }
    },
    {
      "cell_type": "code",
      "source": [
        "arr = np.array([12,32,24,55,91,92,39,133])\n",
        "arr2 = np.where(arr>50);\n",
        "arr2"
      ],
      "metadata": {
        "colab": {
          "base_uri": "https://localhost:8080/"
        },
        "id": "1Y7Vf92NmDCG",
        "outputId": "0a8f3dc1-f0d2-4f05-ba4c-41145f0ded15"
      },
      "execution_count": 7,
      "outputs": [
        {
          "output_type": "execute_result",
          "data": {
            "text/plain": [
              "(array([3, 4, 5, 7]),)"
            ]
          },
          "metadata": {},
          "execution_count": 7
        }
      ]
    },
    {
      "cell_type": "markdown",
      "source": [
        "### Code to replace all negative values with zeros"
      ],
      "metadata": {
        "id": "ztLH9G-CpsqG"
      }
    },
    {
      "cell_type": "code",
      "source": [
        "arr = np.array([-1,-11,12,-31,10,11,121,322,-100,345,542])\n",
        "arr[arr<0]=0\n",
        "arr"
      ],
      "metadata": {
        "colab": {
          "base_uri": "https://localhost:8080/"
        },
        "id": "jqTQ49DymP14",
        "outputId": "46fdb9cd-a0f5-4106-b99b-1c717e68733e"
      },
      "execution_count": 8,
      "outputs": [
        {
          "output_type": "execute_result",
          "data": {
            "text/plain": [
              "array([  0,   0,  12,   0,  10,  11, 121, 322,   0, 345, 542])"
            ]
          },
          "metadata": {},
          "execution_count": 8
        }
      ]
    },
    {
      "cell_type": "markdown",
      "source": [
        "### Code to replace all NaN values with mean of columns"
      ],
      "metadata": {
        "id": "jMtIj0GHuisS"
      }
    },
    {
      "cell_type": "code",
      "source": [
        "arr = np.array([[1,12,13,31],[4,54,61,13], [np.nan, 12, np.nan,30],[14,15,16,17]])\n",
        "arr"
      ],
      "metadata": {
        "colab": {
          "base_uri": "https://localhost:8080/"
        },
        "id": "ypvUIuhwprOf",
        "outputId": "be4f4488-182a-47ca-f8d9-5c8d14b20372"
      },
      "execution_count": 10,
      "outputs": [
        {
          "output_type": "execute_result",
          "data": {
            "text/plain": [
              "array([[ 1., 12., 13., 31.],\n",
              "       [ 4., 54., 61., 13.],\n",
              "       [nan, 12., nan, 30.],\n",
              "       [14., 15., 16., 17.]])"
            ]
          },
          "metadata": {},
          "execution_count": 10
        }
      ]
    },
    {
      "cell_type": "code",
      "source": [
        "col_mean = np.nanmean(arr, axis=0)\n",
        "col_mean"
      ],
      "metadata": {
        "colab": {
          "base_uri": "https://localhost:8080/"
        },
        "id": "a7biUSFGrhyZ",
        "outputId": "97da733d-ab3c-4216-a729-643df5d7ef70"
      },
      "execution_count": 17,
      "outputs": [
        {
          "output_type": "execute_result",
          "data": {
            "text/plain": [
              "array([ 6.33333333, 23.25      , 30.        , 22.75      ])"
            ]
          },
          "metadata": {},
          "execution_count": 17
        }
      ]
    },
    {
      "cell_type": "code",
      "source": [
        "inds = np.where(np.isnan(arr))\n",
        "inds"
      ],
      "metadata": {
        "colab": {
          "base_uri": "https://localhost:8080/"
        },
        "id": "1fHOFKkAsHc6",
        "outputId": "340bc7ef-c669-4e60-b318-99b25833a87d"
      },
      "execution_count": 18,
      "outputs": [
        {
          "output_type": "execute_result",
          "data": {
            "text/plain": [
              "(array([2, 2]), array([0, 2]))"
            ]
          },
          "metadata": {},
          "execution_count": 18
        }
      ]
    },
    {
      "cell_type": "code",
      "source": [
        "arr[inds]= np.take(col_mean, inds[1])\n",
        "arr"
      ],
      "metadata": {
        "colab": {
          "base_uri": "https://localhost:8080/"
        },
        "id": "845tgU6WvCZ_",
        "outputId": "9e893f80-ff2d-467f-f071-c5350b119320"
      },
      "execution_count": 19,
      "outputs": [
        {
          "output_type": "execute_result",
          "data": {
            "text/plain": [
              "array([[ 1.        , 12.        , 13.        , 31.        ],\n",
              "       [ 4.        , 54.        , 61.        , 13.        ],\n",
              "       [ 6.33333333, 12.        , 30.        , 30.        ],\n",
              "       [14.        , 15.        , 16.        , 17.        ]])"
            ]
          },
          "metadata": {},
          "execution_count": 19
        }
      ]
    },
    {
      "cell_type": "markdown",
      "source": [
        "### Write a piece of code to replace certain positions in a numpy array with other elements stored in a different array"
      ],
      "metadata": {
        "id": "4IlesfpUyv7_"
      }
    },
    {
      "cell_type": "code",
      "source": [
        "arr1 = np.array([12,13,14,15,16,17,71,61,51,41])\n",
        "arr2 = np.array([23,43,54,46])\n",
        "arr1.put([0,1,2], arr2)\n",
        "arr1"
      ],
      "metadata": {
        "colab": {
          "base_uri": "https://localhost:8080/"
        },
        "id": "ZUtoRD5fvPzc",
        "outputId": "468cb541-6602-46c2-d4c6-344d046bc646"
      },
      "execution_count": 20,
      "outputs": [
        {
          "output_type": "execute_result",
          "data": {
            "text/plain": [
              "array([23, 43, 54, 15, 16, 17, 71, 61, 51, 41])"
            ]
          },
          "metadata": {},
          "execution_count": 20
        }
      ]
    },
    {
      "cell_type": "code",
      "source": [
        "arr1 = np.array([[101,102,103,104,105], [106,107,108,109,110], [111,112,113,114,115],[116,117,118,119,120]])\n",
        "arr2 = np.zeros(5)\n",
        "arr1.put([0,5,10,15], arr2)\n",
        "arr1"
      ],
      "metadata": {
        "colab": {
          "base_uri": "https://localhost:8080/"
        },
        "id": "i-zWm7DpzFid",
        "outputId": "e2df2d58-bf9b-4686-d128-df53eb56f153"
      },
      "execution_count": 21,
      "outputs": [
        {
          "output_type": "execute_result",
          "data": {
            "text/plain": [
              "array([[  0, 102, 103, 104, 105],\n",
              "       [  0, 107, 108, 109, 110],\n",
              "       [  0, 112, 113, 114, 115],\n",
              "       [  0, 117, 118, 119, 120]])"
            ]
          },
          "metadata": {},
          "execution_count": 21
        }
      ]
    },
    {
      "cell_type": "code",
      "source": [
        "arr1 = np.array([102,103,104,105,106,107])\n",
        "arr2 = np.zeros(3)\n",
        "arr1.put([0,3,13], arr2, mode=\"clip\")\n",
        "arr1"
      ],
      "metadata": {
        "colab": {
          "base_uri": "https://localhost:8080/"
        },
        "id": "WX5ClNSmzkcZ",
        "outputId": "b358d051-246b-4fd9-bdfa-40f49076453f"
      },
      "execution_count": 23,
      "outputs": [
        {
          "output_type": "execute_result",
          "data": {
            "text/plain": [
              "array([  0, 103, 104,   0, 106,   0])"
            ]
          },
          "metadata": {},
          "execution_count": 23
        }
      ]
    },
    {
      "cell_type": "markdown",
      "source": [
        "### Code to find all positions at which the value is equal to 0."
      ],
      "metadata": {
        "id": "BliL_OHW4A5d"
      }
    },
    {
      "cell_type": "code",
      "source": [
        "arr1 = np.array([0,0,12,31,34,43,54,65,0,9,0])\n",
        "arr2 = np.where(arr1==0)\n",
        "arr2"
      ],
      "metadata": {
        "colab": {
          "base_uri": "https://localhost:8080/"
        },
        "id": "zwdpwb5t0Cll",
        "outputId": "ec7cd4ef-e9bc-40ea-c64f-dccdcb188d04"
      },
      "execution_count": 24,
      "outputs": [
        {
          "output_type": "execute_result",
          "data": {
            "text/plain": [
              "(array([ 0,  1,  8, 10]),)"
            ]
          },
          "metadata": {},
          "execution_count": 24
        }
      ]
    },
    {
      "cell_type": "code",
      "source": [
        "arr1 = np.array([[12,0,0,13],[14,0,0,15],[12,0,0,44],[32,0,0,34]])\n",
        "arr2 = (arr1==0)\n",
        "arr2"
      ],
      "metadata": {
        "colab": {
          "base_uri": "https://localhost:8080/"
        },
        "id": "rblONI7Q32dz",
        "outputId": "b128e653-0119-457d-db3c-c63e22b67588"
      },
      "execution_count": 26,
      "outputs": [
        {
          "output_type": "execute_result",
          "data": {
            "text/plain": [
              "array([[False,  True,  True, False],\n",
              "       [False,  True,  True, False],\n",
              "       [False,  True,  True, False],\n",
              "       [False,  True,  True, False]])"
            ]
          },
          "metadata": {},
          "execution_count": 26
        }
      ]
    },
    {
      "cell_type": "markdown",
      "source": [
        "### Code to remove all non-numeric value containing columns in a matrix."
      ],
      "metadata": {
        "id": "VozKruHx76a4"
      }
    },
    {
      "cell_type": "code",
      "source": [
        "arr1 = np.array([[552,342,100, np.nan],[555,567,987,43],[3456,431,432,235],[101,102,np.nan, 103]])\n",
        "arr1"
      ],
      "metadata": {
        "colab": {
          "base_uri": "https://localhost:8080/"
        },
        "id": "746Pe8yU6dIL",
        "outputId": "11a712c7-5437-417d-fd1c-a835f6335e21"
      },
      "execution_count": 27,
      "outputs": [
        {
          "output_type": "execute_result",
          "data": {
            "text/plain": [
              "array([[ 552.,  342.,  100.,   nan],\n",
              "       [ 555.,  567.,  987.,   43.],\n",
              "       [3456.,  431.,  432.,  235.],\n",
              "       [ 101.,  102.,   nan,  103.]])"
            ]
          },
          "metadata": {},
          "execution_count": 27
        }
      ]
    },
    {
      "cell_type": "code",
      "source": [
        "arr2=arr1[:,~np.isnan(arr1).any(axis=0)]\n",
        "arr2"
      ],
      "metadata": {
        "colab": {
          "base_uri": "https://localhost:8080/"
        },
        "id": "SpH_5dns8YZz",
        "outputId": "982cf454-d8bc-46dd-f456-a7651db95704"
      },
      "execution_count": 34,
      "outputs": [
        {
          "output_type": "execute_result",
          "data": {
            "text/plain": [
              "array([[ 552.,  342.],\n",
              "       [ 555.,  567.],\n",
              "       [3456.,  431.],\n",
              "       [ 101.,  102.]])"
            ]
          },
          "metadata": {},
          "execution_count": 34
        }
      ]
    },
    {
      "cell_type": "markdown",
      "source": [
        "### Code to return indices of arrays containing element larger than X"
      ],
      "metadata": {
        "id": "j1ENHtIV-v9t"
      }
    },
    {
      "cell_type": "code",
      "source": [
        "arr3 = np.array([[10,11,12,13,14],[15,16,17,18,19],[20,21,22,23,24],[31,32,33,34,35],[36,37,38,39,40],[1,2,3,4,5]])\n",
        "arr3"
      ],
      "metadata": {
        "colab": {
          "base_uri": "https://localhost:8080/"
        },
        "id": "qMRVEJuI8mjk",
        "outputId": "1f9e411c-7806-4047-938e-42f298184a23"
      },
      "execution_count": 35,
      "outputs": [
        {
          "output_type": "execute_result",
          "data": {
            "text/plain": [
              "array([[10, 11, 12, 13, 14],\n",
              "       [15, 16, 17, 18, 19],\n",
              "       [20, 21, 22, 23, 24],\n",
              "       [31, 32, 33, 34, 35],\n",
              "       [36, 37, 38, 39, 40],\n",
              "       [ 1,  2,  3,  4,  5]])"
            ]
          },
          "metadata": {},
          "execution_count": 35
        }
      ]
    },
    {
      "cell_type": "code",
      "source": [
        "arr4 = np.where(np.any(arr3>15, axis=1))\n",
        "arr4"
      ],
      "metadata": {
        "colab": {
          "base_uri": "https://localhost:8080/"
        },
        "id": "_9VPTPb3_Lkq",
        "outputId": "b11b168d-3424-476d-debb-d4736d7ede48"
      },
      "execution_count": 38,
      "outputs": [
        {
          "output_type": "execute_result",
          "data": {
            "text/plain": [
              "(array([1, 2, 3, 4]),)"
            ]
          },
          "metadata": {},
          "execution_count": 38
        }
      ]
    },
    {
      "cell_type": "markdown",
      "source": [
        "### Code to find if any specific elements of a list exist in a numpy array"
      ],
      "metadata": {
        "id": "oHYHQKw5EaM8"
      }
    },
    {
      "cell_type": "code",
      "source": [
        "import numpy as np\n",
        "arr = np.array([1,2,3,4,5,19,12,13,14, 223, 224,15])\n",
        "arr1=[4,3,5, 224,223]\n",
        "arr2 = np.isin(arr, arr1)\n",
        "arr2"
      ],
      "metadata": {
        "colab": {
          "base_uri": "https://localhost:8080/"
        },
        "id": "daNMn4xOCLMZ",
        "outputId": "04d0a278-254f-427a-e390-491b44a6ca65"
      },
      "execution_count": 41,
      "outputs": [
        {
          "output_type": "execute_result",
          "data": {
            "text/plain": [
              "array([False, False,  True,  True,  True, False, False, False, False,\n",
              "        True,  True, False])"
            ]
          },
          "metadata": {},
          "execution_count": 41
        }
      ]
    },
    {
      "cell_type": "markdown",
      "source": [
        "### Write Code to combine two arrays index by index."
      ],
      "metadata": {
        "id": "wuj4yxowGkzH"
      }
    },
    {
      "cell_type": "code",
      "source": [
        "arr = np.array([1,2,3,4,5])\n",
        "arr1 =np.array([12,13,14,15,16])\n",
        "arr2 = np.dstack([arr, arr1])\n",
        "arr2"
      ],
      "metadata": {
        "colab": {
          "base_uri": "https://localhost:8080/"
        },
        "id": "wP3Sncn-GAmu",
        "outputId": "e9dfc78d-8f96-43aa-b6a5-d5ad29e1368d"
      },
      "execution_count": 44,
      "outputs": [
        {
          "output_type": "execute_result",
          "data": {
            "text/plain": [
              "array([[[ 1, 12],\n",
              "        [ 2, 13],\n",
              "        [ 3, 14],\n",
              "        [ 4, 15],\n",
              "        [ 5, 16]]])"
            ]
          },
          "metadata": {},
          "execution_count": 44
        }
      ]
    },
    {
      "cell_type": "markdown",
      "source": [
        "### Write a code to sort a numpy array"
      ],
      "metadata": {
        "id": "8ElH0UiJJ-sz"
      }
    },
    {
      "cell_type": "code",
      "source": [
        "arr1 = np.array([12,10,-1,-33,100,103])\n",
        "ans =np.sort(arr1)\n",
        "ans"
      ],
      "metadata": {
        "colab": {
          "base_uri": "https://localhost:8080/"
        },
        "id": "2YU7peCBJhXb",
        "outputId": "5f381520-9a3c-4363-d069-45a9fa6d3f13"
      },
      "execution_count": 45,
      "outputs": [
        {
          "output_type": "execute_result",
          "data": {
            "text/plain": [
              "array([-33,  -1,  10,  12, 100, 103])"
            ]
          },
          "metadata": {},
          "execution_count": 45
        }
      ]
    },
    {
      "cell_type": "markdown",
      "source": [
        "### Write a code that returns an array of indices of sorted array elements in an array"
      ],
      "metadata": {
        "id": "ydOgftNXO4Vy"
      }
    },
    {
      "cell_type": "code",
      "source": [
        "arr1 = np.array([13,14,51,23,-11,23,32])\n",
        "arr2 = np.argsort(arr1)\n",
        "arr2"
      ],
      "metadata": {
        "colab": {
          "base_uri": "https://localhost:8080/"
        },
        "id": "Grj8LVN_KKPv",
        "outputId": "4a9d84fa-c2f9-44c3-a71b-f5029820a4c4"
      },
      "execution_count": 46,
      "outputs": [
        {
          "output_type": "execute_result",
          "data": {
            "text/plain": [
              "array([4, 0, 1, 3, 5, 6, 2])"
            ]
          },
          "metadata": {},
          "execution_count": 46
        }
      ]
    },
    {
      "cell_type": "markdown",
      "source": [
        "### Write a code to find the k smallest values in a numpy array"
      ],
      "metadata": {
        "id": "lSZeoQB4PohY"
      }
    },
    {
      "cell_type": "code",
      "source": [
        "arr1=np.array([-22,-32,-2,22,34,45,10,102,103,104,55,45])\n",
        "arr2 = np.sort(arr1)\n",
        "arr3 = arr2[:4]\n",
        "arr3"
      ],
      "metadata": {
        "colab": {
          "base_uri": "https://localhost:8080/"
        },
        "id": "aOsERquRPZt7",
        "outputId": "ca0ee5ae-6e4d-4929-c34b-0c2aee65a9d5"
      },
      "execution_count": 47,
      "outputs": [
        {
          "output_type": "execute_result",
          "data": {
            "text/plain": [
              "array([-32, -22,  -2,  10])"
            ]
          },
          "metadata": {},
          "execution_count": 47
        }
      ]
    },
    {
      "cell_type": "markdown",
      "source": [
        "### Write a code to find the nth largest values in a numpy array"
      ],
      "metadata": {
        "id": "Cxi3zVLORVZp"
      }
    },
    {
      "cell_type": "code",
      "source": [
        "arr1 = np.array([22,-32,-42,33,31,98,76]);\n",
        "arr2 = np.sort(arr1)\n",
        "arr3 = np.flip(arr2)\n",
        "ans = arr3[2]\n",
        "print(\"Third largest element:\\t\")\n",
        "ans\n"
      ],
      "metadata": {
        "colab": {
          "base_uri": "https://localhost:8080/"
        },
        "id": "2T8wnokaQYN1",
        "outputId": "d9c13c74-2e95-41b9-ca67-20a8dfce8d6e"
      },
      "execution_count": 48,
      "outputs": [
        {
          "output_type": "stream",
          "name": "stdout",
          "text": [
            "Third largest element:\t\n"
          ]
        },
        {
          "output_type": "execute_result",
          "data": {
            "text/plain": [
              "33"
            ]
          },
          "metadata": {},
          "execution_count": 48
        }
      ]
    },
    {
      "cell_type": "markdown",
      "source": [
        "### Write a piece of code to sort the values in a matrix"
      ],
      "metadata": {
        "id": "0Kxt3pkrTEuT"
      }
    },
    {
      "cell_type": "code",
      "source": [
        "arr1 = np.array([[12,-33,-45,102,103,104],[14,15,82,34,4,0],[4,5,23,31,-11,-124],[-99,99,100,1333,-23,32]])\n",
        "shap= arr1.shape\n",
        "row = shap[0]\n",
        "col=shap[1]\n",
        "row"
      ],
      "metadata": {
        "colab": {
          "base_uri": "https://localhost:8080/"
        },
        "id": "2oSA6F58SUc9",
        "outputId": "f5f1ceac-7d3d-45a5-8449-143e29b077c1"
      },
      "execution_count": 54,
      "outputs": [
        {
          "output_type": "execute_result",
          "data": {
            "text/plain": [
              "4"
            ]
          },
          "metadata": {},
          "execution_count": 54
        }
      ]
    },
    {
      "cell_type": "code",
      "source": [
        "arr2 = arr1.flatten()\n",
        "arr2"
      ],
      "metadata": {
        "colab": {
          "base_uri": "https://localhost:8080/"
        },
        "id": "ZWC-DwugT6Px",
        "outputId": "652cd178-9508-4290-b1b7-b5d6c3b54ef2"
      },
      "execution_count": 55,
      "outputs": [
        {
          "output_type": "execute_result",
          "data": {
            "text/plain": [
              "array([  12,  -33,  -45,  102,  103,  104,   14,   15,   82,   34,    4,\n",
              "          0,    4,    5,   23,   31,  -11, -124,  -99,   99,  100, 1333,\n",
              "        -23,   32])"
            ]
          },
          "metadata": {},
          "execution_count": 55
        }
      ]
    },
    {
      "cell_type": "code",
      "source": [
        "arr3 = np.sort(arr2)\n",
        "arr4 = arr3.reshape(shap)\n",
        "arr4"
      ],
      "metadata": {
        "colab": {
          "base_uri": "https://localhost:8080/"
        },
        "id": "nGm7ZYiBUScM",
        "outputId": "86c52f37-da4d-446d-8e32-012e436d8cfb"
      },
      "execution_count": 56,
      "outputs": [
        {
          "output_type": "execute_result",
          "data": {
            "text/plain": [
              "array([[-124,  -99,  -45,  -33,  -23,  -11],\n",
              "       [   0,    4,    4,    5,   12,   14],\n",
              "       [  15,   23,   31,   32,   34,   82],\n",
              "       [  99,  100,  102,  103,  104, 1333]])"
            ]
          },
          "metadata": {},
          "execution_count": 56
        }
      ]
    },
    {
      "cell_type": "markdown",
      "source": [
        "### Write a piece of code to filter out the integer values from a numpy array that contains float values"
      ],
      "metadata": {
        "id": "g7_mJ9UZWPPV"
      }
    },
    {
      "cell_type": "code",
      "source": [
        "arr1 = np.array([1.5, 2.3, 3.7, 4.1, 5.0,1])\n",
        "\n",
        "arr2 = arr1 [arr1!= arr1.astype(int)]\n",
        "arr2"
      ],
      "metadata": {
        "colab": {
          "base_uri": "https://localhost:8080/"
        },
        "id": "6XU6aD_YUkxx",
        "outputId": "14870e8b-13d8-4ac4-afe9-0b6c9bf70ce7"
      },
      "execution_count": 59,
      "outputs": [
        {
          "output_type": "execute_result",
          "data": {
            "text/plain": [
              "array([1.5, 2.3, 3.7, 4.1])"
            ]
          },
          "metadata": {},
          "execution_count": 59
        }
      ]
    },
    {
      "cell_type": "markdown",
      "source": [
        "### Write a piece of code to make a numpy array with random values"
      ],
      "metadata": {
        "id": "Wd-0Lo9Pke9B"
      }
    },
    {
      "cell_type": "code",
      "source": [
        "arr = np.random.randint(100, size=20)\n",
        "arr"
      ],
      "metadata": {
        "colab": {
          "base_uri": "https://localhost:8080/"
        },
        "id": "S-4LaglbWkYk",
        "outputId": "6c11b09a-8a1e-400b-9f13-6a65d9851244"
      },
      "execution_count": 62,
      "outputs": [
        {
          "output_type": "execute_result",
          "data": {
            "text/plain": [
              "array([43,  1, 54,  7, 37, 49, 48, 53, 86, 75,  0, 86, 86, 26, 88, 20, 88,\n",
              "       83, 37, 22])"
            ]
          },
          "metadata": {},
          "execution_count": 62
        }
      ]
    },
    {
      "cell_type": "code",
      "source": [],
      "metadata": {
        "id": "3Ld_Ci5nkqJs"
      },
      "execution_count": 62,
      "outputs": []
    }
  ],
  "metadata": {
    "colab": {
      "provenance": []
    },
    "kernelspec": {
      "display_name": "Python 3",
      "name": "python3"
    },
    "language_info": {
      "name": "python"
    }
  },
  "nbformat": 4,
  "nbformat_minor": 0
}